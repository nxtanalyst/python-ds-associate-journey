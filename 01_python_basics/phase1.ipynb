{
 "cells": [
  {
   "cell_type": "markdown",
   "id": "46eaa9f2",
   "metadata": {},
   "source": [
    "## Numpy array and Basics"
   ]
  }
 ],
 "metadata": {
  "language_info": {
   "name": "python"
  }
 },
 "nbformat": 4,
 "nbformat_minor": 5
}
