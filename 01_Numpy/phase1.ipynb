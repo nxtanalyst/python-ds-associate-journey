{
 "cells": [
  {
   "cell_type": "markdown",
   "id": "46eaa9f2",
   "metadata": {},
   "source": [
    "## Numpy array and Basics\n",
    "Learn about numpy with nxtanalyst\n"
   ]
  },
  {
   "cell_type": "code",
   "execution_count": 2,
   "id": "e778316a",
   "metadata": {},
   "outputs": [],
   "source": [
    "import numpy as np"
   ]
  },
  {
   "cell_type": "markdown",
   "id": "906feae6",
   "metadata": {},
   "source": [
    "## Creating array From list"
   ]
  },
  {
   "cell_type": "code",
   "execution_count": 2,
   "id": "1f06499a",
   "metadata": {},
   "outputs": [
    {
     "name": "stdout",
     "output_type": "stream",
     "text": [
      "Id Arrary==[1 2 3 4 5]\n",
      "2D array is:  [[1 2 3]\n",
      " [4 5 6]]\n"
     ]
    }
   ],
   "source": [
    "arry_1d=np.array([1,2,3,4,5])\n",
    "print(f'Id Arrary=={arry_1d}')\n",
    "arry_2d=np.array([[1,2,3],[4,5,6]])\n",
    "print('2D array is: ',arry_2d)"
   ]
  },
  {
   "cell_type": "markdown",
   "id": "09d04527",
   "metadata": {},
   "source": [
    "## Numpy array Vs List\n"
   ]
  },
  {
   "cell_type": "code",
   "execution_count": 4,
   "id": "31508cc4",
   "metadata": {},
   "outputs": [
    {
     "name": "stdout",
     "output_type": "stream",
     "text": [
      "Python list multiplication [1, 2, 3, 4, 1, 2, 3, 4, 1, 2, 3, 4]\n",
      "Python Array multiplication [2 4 6 8]\n",
      "Python list multiplication 0.11571145057678223\n",
      "Python list multiplication 0.004536628723144531\n"
     ]
    }
   ],
   "source": [
    "py_list=[1,2,3,4]\n",
    "print('Python list multiplication',py_list*3)\n",
    "\n",
    "np_array=np.array([1,2,3,4])\n",
    "print('Python Array multiplication',np_array*2)\n",
    "import time\n",
    "start=time.time()\n",
    "my_lis=[i*2 for i in range(1000000)]\n",
    "print('Python list multiplication',time.time()-start)\n",
    "\n",
    "start=time.time()\n",
    "np_arrays=np.arange(1000000)*2\n",
    "print('Python list multiplication',time.time()-start)\n",
    "\n",
    "\n"
   ]
  },
  {
   "cell_type": "markdown",
   "id": "55f8383e",
   "metadata": {},
   "source": [
    "## Creating Array From Scratch"
   ]
  },
  {
   "cell_type": "code",
   "execution_count": null,
   "id": "ef8886a1",
   "metadata": {},
   "outputs": [
    {
     "name": "stdout",
     "output_type": "stream",
     "text": [
      "Zeros Arayys: \n",
      " [[0. 0. 0. 0.]\n",
      " [0. 0. 0. 0.]\n",
      " [0. 0. 0. 0.]]\n",
      "Ones Arayys: \n",
      " [[1. 1. 1.]\n",
      " [1. 1. 1.]]\n",
      "Full Arayys: \n",
      " [[7 7]\n",
      " [7 7]]\n",
      "Random Arayys: \n",
      " [[0.83357421 0.40265238 0.76380828]\n",
      " [0.48783555 0.12336353 0.644406  ]]\n",
      "Sequence Arayys: \n",
      " [0 2 4 6 8]\n"
     ]
    }
   ],
   "source": [
    "zeros=np.zeros((3,4))\n",
    "print('Zeros Arayys: \\n',zeros)\n",
    "\n",
    "ones=np.ones((2,3))\n",
    "print('Ones Arayys: \\n',ones)\n",
    "\n",
    "full=np.full(((2,2)),7)\n",
    "print('Full Arayys: \\n',full)\n",
    "random=np.random.random((2,3))\n",
    "print('Random Arayys: \\n',random)\n",
    "\n",
    "sequence=np.arange(0,10,2)\n",
    "print('Sequence Arayys: \\n',sequence)\n"
   ]
  },
  {
   "cell_type": "markdown",
   "id": "bf16c0b2",
   "metadata": {},
   "source": [
    "## np.linspace(-10,10,10)"
   ]
  },
  {
   "cell_type": "code",
   "execution_count": 3,
   "id": "086f8d15",
   "metadata": {},
   "outputs": [
    {
     "data": {
      "text/plain": [
       "array([-10.        ,  -7.77777778,  -5.55555556,  -3.33333333,\n",
       "        -1.11111111,   1.11111111,   3.33333333,   5.55555556,\n",
       "         7.77777778,  10.        ])"
      ]
     },
     "execution_count": 3,
     "metadata": {},
     "output_type": "execute_result"
    }
   ],
   "source": [
    "np.linspace(-10,10,10)"
   ]
  },
  {
   "cell_type": "markdown",
   "id": "d47fca16",
   "metadata": {},
   "source": [
    "## Identity array===>np.identity(shappe)"
   ]
  },
  {
   "cell_type": "code",
   "execution_count": 10,
   "id": "b9d76510",
   "metadata": {},
   "outputs": [
    {
     "name": "stdout",
     "output_type": "stream",
     "text": [
      "[[1. 0. 0. 0.]\n",
      " [0. 1. 0. 0.]\n",
      " [0. 0. 1. 0.]\n",
      " [0. 0. 0. 1.]]\n"
     ]
    },
    {
     "data": {
      "text/plain": [
       "numpy.ndarray"
      ]
     },
     "execution_count": 10,
     "metadata": {},
     "output_type": "execute_result"
    }
   ],
   "source": [
    "a=np.identity(4)\n",
    "print(a)\n",
    "type(a)"
   ]
  },
  {
   "cell_type": "markdown",
   "id": "1b95eb0b",
   "metadata": {},
   "source": [
    "## Vector, Matrix and Tenser"
   ]
  },
  {
   "cell_type": "code",
   "execution_count": 18,
   "id": "003fdfb1",
   "metadata": {},
   "outputs": [
    {
     "name": "stdout",
     "output_type": "stream",
     "text": [
      "Vector [1 2 3]\n",
      "Matrix: [[1 2 3 4]\n",
      " [5 6 7 8]]\n",
      "Tensor: [[[1 2]\n",
      "  [3 4]]\n",
      "\n",
      " [[5 6]\n",
      "  [7 8]]]\n"
     ]
    }
   ],
   "source": [
    "vector=np.array([1,2,3])\n",
    "print('Vector',vector)\n",
    "\n",
    "matrix = np.array([[1, 2, 3, 4],\n",
    "                   [5, 6, 7, 8]])\n",
    "print('Matrix:', matrix)\n",
    "\n",
    "tensor = np.array([[[1, 2], [3, 4]],\n",
    "                   [[5, 6], [7, 8]]])\n",
    "print('Tensor:', tensor)"
   ]
  },
  {
   "cell_type": "markdown",
   "id": "9598a401",
   "metadata": {},
   "source": [
    "## Array Properties"
   ]
  },
  {
   "cell_type": "code",
   "execution_count": 21,
   "id": "66917dda",
   "metadata": {},
   "outputs": [
    {
     "name": "stdout",
     "output_type": "stream",
     "text": [
      "Shape:  (2, 3)\n",
      "Dimension:  2\n",
      "Size:  6\n",
      "Dtype:  int64\n"
     ]
    }
   ],
   "source": [
    "arr=np.array([[1,2,3],\n",
    "             [4,5,6]])\n",
    "\n",
    "print('Shape: ',arr.shape)\n",
    "print('Dimension: ',arr.ndim)\n",
    "print('Size: ',arr.size)\n",
    "print('Dtype: ',arr.dtype)\n"
   ]
  },
  {
   "cell_type": "markdown",
   "id": "4a4a1fc1",
   "metadata": {},
   "source": [
    "### Array Reshaping"
   ]
  },
  {
   "cell_type": "code",
   "execution_count": 28,
   "id": "07b51851",
   "metadata": {},
   "outputs": [
    {
     "name": "stdout",
     "output_type": "stream",
     "text": [
      "Orignal array [ 0  1  2  3  4  5  6  7  8  9 10 11]\n",
      "Reshaped array [[ 0  1  2  3]\n",
      " [ 4  5  6  7]\n",
      " [ 8  9 10 11]]\n",
      "Flattend array [ 0  1  2  3  4  5  6  7  8  9 10 11]\n",
      "Ravel array [ 0  1  2  3  4  5  6  7  8  9 10 11]\n",
      "Transpose array [[ 0  4  8]\n",
      " [ 1  5  9]\n",
      " [ 2  6 10]\n",
      " [ 3  7 11]]\n"
     ]
    }
   ],
   "source": [
    "arr=np.arange(12)\n",
    "print('Orignal array',arr)\n",
    "\n",
    "reshaped=arr.reshape((3,4))\n",
    "print('Reshaped array',reshaped)\n",
    "\n",
    "flatend=reshaped.flatten()\n",
    "print('Flattend array',flatend)\n",
    "\n",
    "# ravel (Returns View, instead of copy)\n",
    "ravel=reshaped.ravel()\n",
    "print('Ravel array',ravel)\n",
    "\n",
    "# Transpose\n",
    "transpose=reshaped.T\n",
    "print('Transpose array',transpose)\n"
   ]
  },
  {
   "cell_type": "code",
   "execution_count": null,
   "id": "d5e78aac",
   "metadata": {},
   "outputs": [],
   "source": []
  }
 ],
 "metadata": {
  "kernelspec": {
   "display_name": "Python 3",
   "language": "python",
   "name": "python3"
  },
  "language_info": {
   "codemirror_mode": {
    "name": "ipython",
    "version": 3
   },
   "file_extension": ".py",
   "mimetype": "text/x-python",
   "name": "python",
   "nbconvert_exporter": "python",
   "pygments_lexer": "ipython3",
   "version": "3.13.0"
  }
 },
 "nbformat": 4,
 "nbformat_minor": 5
}
