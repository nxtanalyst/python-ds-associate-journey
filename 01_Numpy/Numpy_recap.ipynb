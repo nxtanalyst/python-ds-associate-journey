{
 "cells": [
  {
   "cell_type": "markdown",
   "metadata": {
    "id": "7gpjNDkGzvnm"
   },
   "source": [
    "# ***Recap of Numpy***"
   ]
  },
  {
   "cell_type": "code",
   "execution_count": 2,
   "metadata": {
    "executionInfo": {
     "elapsed": 44,
     "status": "ok",
     "timestamp": 1753565800948,
     "user": {
      "displayName": "Kamal Hussain",
      "userId": "03175230415191365677"
     },
     "user_tz": -300
    },
    "id": "TLM2S1bczgGt"
   },
   "outputs": [],
   "source": [
    "import numpy as np\n"
   ]
  },
  {
   "cell_type": "markdown",
   "metadata": {
    "id": "m2fMRWs-9w8X"
   },
   "source": [
    "**Numpy is created using np.array() passing object**"
   ]
  },
  {
   "cell_type": "code",
   "execution_count": 8,
   "metadata": {
    "colab": {
     "base_uri": "https://localhost:8080/"
    },
    "executionInfo": {
     "elapsed": 56,
     "status": "ok",
     "timestamp": 1753520568507,
     "user": {
      "displayName": "Kamal Hussain",
      "userId": "03175230415191365677"
     },
     "user_tz": -300
    },
    "id": "-sjq48Jrzurw",
    "outputId": "085935af-32f4-4959-9e6a-a4ba3a64c40a"
   },
   "outputs": [
    {
     "data": {
      "text/plain": [
       "array([1, 2, 3])"
      ]
     },
     "execution_count": 8,
     "metadata": {},
     "output_type": "execute_result"
    }
   ],
   "source": [
    "np.array([1,2,3])"
   ]
  },
  {
   "cell_type": "markdown",
   "metadata": {
    "id": "vtO3UQi--Z7-"
   },
   "source": [
    "**Creating One Dimensional array**"
   ]
  },
  {
   "cell_type": "code",
   "execution_count": 9,
   "metadata": {
    "colab": {
     "base_uri": "https://localhost:8080/"
    },
    "executionInfo": {
     "elapsed": 41,
     "status": "ok",
     "timestamp": 1753520907666,
     "user": {
      "displayName": "Kamal Hussain",
      "userId": "03175230415191365677"
     },
     "user_tz": -300
    },
    "id": "lvewt5d3_TsH",
    "outputId": "c9f84426-3d78-4aef-bd9c-38cdf308bb9f"
   },
   "outputs": [
    {
     "name": "stdout",
     "output_type": "stream",
     "text": [
      "[2 4 6 8]\n"
     ]
    }
   ],
   "source": [
    "a=np.array([i for i in np.arange(1,10) if i%2==0 ])\n",
    "print(a)"
   ]
  },
  {
   "cell_type": "markdown",
   "metadata": {
    "id": "YL5W0LMc_sVo"
   },
   "source": [
    "**Creating Two Dimensional array**"
   ]
  },
  {
   "cell_type": "code",
   "execution_count": 16,
   "metadata": {
    "colab": {
     "base_uri": "https://localhost:8080/"
    },
    "executionInfo": {
     "elapsed": 40,
     "status": "ok",
     "timestamp": 1753521099154,
     "user": {
      "displayName": "Kamal Hussain",
      "userId": "03175230415191365677"
     },
     "user_tz": -300
    },
    "id": "bfwLqpvx_n93",
    "outputId": "d14bd86a-a8ca-4ff3-d425-5f5983d5f060"
   },
   "outputs": [
    {
     "name": "stdout",
     "output_type": "stream",
     "text": [
      "[[1 2 3]\n",
      " [4 5 6]]\n",
      "<class 'numpy.ndarray'>\n"
     ]
    }
   ],
   "source": [
    "b=np.array([[1,2,3],[4,5,6]])\n",
    "print(b)\n",
    "print(type(b))"
   ]
  },
  {
   "cell_type": "markdown",
   "metadata": {
    "id": "aXf2ckT2APXf"
   },
   "source": [
    "**Creating Two Dimensional array**"
   ]
  },
  {
   "cell_type": "code",
   "execution_count": 18,
   "metadata": {
    "colab": {
     "base_uri": "https://localhost:8080/"
    },
    "executionInfo": {
     "elapsed": 60,
     "status": "ok",
     "timestamp": 1753521210786,
     "user": {
      "displayName": "Kamal Hussain",
      "userId": "03175230415191365677"
     },
     "user_tz": -300
    },
    "id": "JUtWpW_s_5RF",
    "outputId": "3c532547-1551-4519-acf0-8be25763fd8e"
   },
   "outputs": [
    {
     "name": "stdout",
     "output_type": "stream",
     "text": [
      "[[[1 2 3]\n",
      "  [4 5 6]\n",
      "  [7 8 9]]]\n",
      "<class 'numpy.ndarray'>\n"
     ]
    }
   ],
   "source": [
    "c=np.array([[[1,2,3],[4,5,6],[7,8,9]]])\n",
    "print(c)\n",
    "print(type(c))"
   ]
  },
  {
   "cell_type": "markdown",
   "metadata": {
    "id": "8aGGmlbrA_yH"
   },
   "source": [
    "**Dtype**"
   ]
  },
  {
   "cell_type": "code",
   "execution_count": 19,
   "metadata": {
    "colab": {
     "base_uri": "https://localhost:8080/"
    },
    "executionInfo": {
     "elapsed": 27,
     "status": "ok",
     "timestamp": 1753521397567,
     "user": {
      "displayName": "Kamal Hussain",
      "userId": "03175230415191365677"
     },
     "user_tz": -300
    },
    "id": "F53KgbpPBCwX",
    "outputId": "b1a37e91-1f34-49e9-9cfa-42e504fec235"
   },
   "outputs": [
    {
     "name": "stdout",
     "output_type": "stream",
     "text": [
      "[2. 4. 6. 8.]\n",
      "<class 'numpy.ndarray'>\n"
     ]
    }
   ],
   "source": [
    "d=np.array([2,4,6,8],dtype=float)\n",
    "print(d)\n",
    "print(type(d))"
   ]
  },
  {
   "cell_type": "markdown",
   "metadata": {
    "id": "yIAFmhbuHzDY"
   },
   "source": [
    "**np.arange(start,stop,steps)**"
   ]
  },
  {
   "cell_type": "code",
   "execution_count": 27,
   "metadata": {
    "colab": {
     "base_uri": "https://localhost:8080/"
    },
    "executionInfo": {
     "elapsed": 24,
     "status": "ok",
     "timestamp": 1753523397756,
     "user": {
      "displayName": "Kamal Hussain",
      "userId": "03175230415191365677"
     },
     "user_tz": -300
    },
    "id": "aAjwD2WPH9uh",
    "outputId": "edba55ee-a885-45eb-9091-c6508c9812ef"
   },
   "outputs": [
    {
     "name": "stdout",
     "output_type": "stream",
     "text": [
      "[ 1  3  5  7  9 11]\n"
     ]
    }
   ],
   "source": [
    "arange=np.arange(1,12,2)\n",
    "print(arange)"
   ]
  },
  {
   "cell_type": "markdown",
   "metadata": {
    "id": "UACAsu2ZIVh3"
   },
   "source": [
    "**np.rehsape(row,column)**"
   ]
  },
  {
   "cell_type": "code",
   "execution_count": 32,
   "metadata": {
    "colab": {
     "base_uri": "https://localhost:8080/"
    },
    "executionInfo": {
     "elapsed": 46,
     "status": "ok",
     "timestamp": 1753523476785,
     "user": {
      "displayName": "Kamal Hussain",
      "userId": "03175230415191365677"
     },
     "user_tz": -300
    },
    "id": "q7tb-dx9Idn5",
    "outputId": "79e34dbe-be15-4c45-9613-ad2b2737fd53"
   },
   "outputs": [
    {
     "name": "stdout",
     "output_type": "stream",
     "text": [
      "[[ 1  3]\n",
      " [ 5  7]\n",
      " [ 9 11]]\n"
     ]
    }
   ],
   "source": [
    "arange=np.arange(1,12,2).reshape(3,2)\n",
    "print(arange)"
   ]
  },
  {
   "cell_type": "markdown",
   "metadata": {
    "id": "RA9qroOJKnhi"
   },
   "source": [
    "**np.ones(shape)===>3,4**"
   ]
  },
  {
   "cell_type": "code",
   "execution_count": 35,
   "metadata": {
    "colab": {
     "base_uri": "https://localhost:8080/"
    },
    "executionInfo": {
     "elapsed": 57,
     "status": "ok",
     "timestamp": 1753523973640,
     "user": {
      "displayName": "Kamal Hussain",
      "userId": "03175230415191365677"
     },
     "user_tz": -300
    },
    "id": "xOlDqZUSKtHf",
    "outputId": "3f6be8bf-1408-45b4-dff1-182e8d3b0afa"
   },
   "outputs": [
    {
     "name": "stdout",
     "output_type": "stream",
     "text": [
      "[[1. 1. 1. 1.]\n",
      " [1. 1. 1. 1.]\n",
      " [1. 1. 1. 1.]]\n"
     ]
    }
   ],
   "source": [
    "a=np.ones((3,4))\n",
    "print(a)"
   ]
  },
  {
   "cell_type": "markdown",
   "metadata": {
    "id": "5Un8gblVLJCn"
   },
   "source": [
    "**np.zeros(shape)===>3,4**"
   ]
  },
  {
   "cell_type": "code",
   "execution_count": 36,
   "metadata": {
    "colab": {
     "base_uri": "https://localhost:8080/"
    },
    "executionInfo": {
     "elapsed": 40,
     "status": "ok",
     "timestamp": 1753524029894,
     "user": {
      "displayName": "Kamal Hussain",
      "userId": "03175230415191365677"
     },
     "user_tz": -300
    },
    "id": "OLoiyKo1LQMo",
    "outputId": "bfe8cbc3-aa44-4c88-be3a-344d8e598053"
   },
   "outputs": [
    {
     "name": "stdout",
     "output_type": "stream",
     "text": [
      "[[0. 0. 0. 0.]\n",
      " [0. 0. 0. 0.]\n",
      " [0. 0. 0. 0.]]\n"
     ]
    }
   ],
   "source": [
    "a=np.zeros((3,4))\n",
    "print(a)"
   ]
  },
  {
   "cell_type": "markdown",
   "metadata": {
    "id": "5rUbZcMJMDPZ"
   },
   "source": [
    "**# np.random(shape)===>(4,4)**"
   ]
  },
  {
   "cell_type": "code",
   "execution_count": 41,
   "metadata": {
    "colab": {
     "base_uri": "https://localhost:8080/"
    },
    "executionInfo": {
     "elapsed": 33,
     "status": "ok",
     "timestamp": 1753524399145,
     "user": {
      "displayName": "Kamal Hussain",
      "userId": "03175230415191365677"
     },
     "user_tz": -300
    },
    "id": "rn2wWaaFMJXZ",
    "outputId": "8297b60e-1bf9-4432-c372-cf19a81b0ea5"
   },
   "outputs": [
    {
     "data": {
      "text/plain": [
       "array([[0.71060127, 0.14184301],\n",
       "       [0.97324171, 0.38191638],\n",
       "       [0.26207908, 0.87571943],\n",
       "       [0.20979399, 0.56203588],\n",
       "       [0.04674064, 0.57834066],\n",
       "       [0.89947473, 0.05333921]])"
      ]
     },
     "execution_count": 41,
     "metadata": {},
     "output_type": "execute_result"
    }
   ],
   "source": [
    "gen=np.random.random((3,4))\n",
    "gen.reshape(6,2)"
   ]
  },
  {
   "cell_type": "markdown",
   "metadata": {
    "id": "S_hfjFQsOcGp"
   },
   "source": [
    "**np.linspace(-10,10,10)**"
   ]
  },
  {
   "cell_type": "code",
   "execution_count": 42,
   "metadata": {
    "colab": {
     "base_uri": "https://localhost:8080/"
    },
    "executionInfo": {
     "elapsed": 48,
     "status": "ok",
     "timestamp": 1753524933131,
     "user": {
      "displayName": "Kamal Hussain",
      "userId": "03175230415191365677"
     },
     "user_tz": -300
    },
    "id": "2zSe-gQrOuxq",
    "outputId": "6973c0fd-cee7-4c53-c651-bc8f33108b63"
   },
   "outputs": [
    {
     "data": {
      "text/plain": [
       "array([-10.        ,  -7.77777778,  -5.55555556,  -3.33333333,\n",
       "        -1.11111111,   1.11111111,   3.33333333,   5.55555556,\n",
       "         7.77777778,  10.        ])"
      ]
     },
     "execution_count": 42,
     "metadata": {},
     "output_type": "execute_result"
    }
   ],
   "source": [
    "np.linspace(-10,10,10)"
   ]
  },
  {
   "cell_type": "markdown",
   "metadata": {
    "id": "d8GA3DqiPzXj"
   },
   "source": [
    "**Identity array===>np.identity(shappe)**"
   ]
  },
  {
   "cell_type": "code",
   "execution_count": 47,
   "metadata": {
    "colab": {
     "base_uri": "https://localhost:8080/"
    },
    "executionInfo": {
     "elapsed": 71,
     "status": "ok",
     "timestamp": 1753525940768,
     "user": {
      "displayName": "Kamal Hussain",
      "userId": "03175230415191365677"
     },
     "user_tz": -300
    },
    "id": "AI9ThOgIQk2R",
    "outputId": "5c4ff376-c1cc-4566-e532-95868484382b"
   },
   "outputs": [
    {
     "data": {
      "text/plain": [
       "array([[1, 0, 0, 0],\n",
       "       [0, 1, 0, 0],\n",
       "       [0, 0, 1, 0],\n",
       "       [0, 0, 0, 1]])"
      ]
     },
     "execution_count": 47,
     "metadata": {},
     "output_type": "execute_result"
    }
   ],
   "source": [
    "np.identity(4,dtype=int)"
   ]
  },
  {
   "cell_type": "markdown",
   "metadata": {
    "id": "V-6c34B9Zy8x"
   },
   "source": [
    "***Attributes of Arrays***"
   ]
  },
  {
   "cell_type": "code",
   "execution_count": 91,
   "metadata": {
    "executionInfo": {
     "elapsed": 10,
     "status": "ok",
     "timestamp": 1753565809462,
     "user": {
      "displayName": "Kamal Hussain",
      "userId": "03175230415191365677"
     },
     "user_tz": -300
    },
    "id": "adUdUrVFZ7UP"
   },
   "outputs": [],
   "source": [
    "a1=np.arange(10)\n",
    "a2=np.arange(12,dtype=float).reshape(3,4)\n",
    "a3=np.arange(8).reshape(2,2,2)"
   ]
  },
  {
   "cell_type": "code",
   "execution_count": 4,
   "metadata": {
    "colab": {
     "base_uri": "https://localhost:8080/"
    },
    "executionInfo": {
     "elapsed": 18,
     "status": "ok",
     "timestamp": 1753565811007,
     "user": {
      "displayName": "Kamal Hussain",
      "userId": "03175230415191365677"
     },
     "user_tz": -300
    },
    "id": "b37zfDGfbLbj",
    "outputId": "48500000-d27b-4412-aac4-819670464e5f"
   },
   "outputs": [
    {
     "name": "stdout",
     "output_type": "stream",
     "text": [
      "<class 'numpy.ndarray'>\n",
      "<class 'numpy.ndarray'>\n",
      "<class 'numpy.ndarray'>\n"
     ]
    }
   ],
   "source": [
    "print(type(a1))\n",
    "print(type(a2))\n",
    "print(type(a3))\n"
   ]
  },
  {
   "cell_type": "markdown",
   "metadata": {
    "id": "xHRkXxGceFjC"
   },
   "source": [
    "**ndim**"
   ]
  },
  {
   "cell_type": "code",
   "execution_count": 58,
   "metadata": {
    "colab": {
     "base_uri": "https://localhost:8080/"
    },
    "executionInfo": {
     "elapsed": 92,
     "status": "ok",
     "timestamp": 1753529025554,
     "user": {
      "displayName": "Kamal Hussain",
      "userId": "03175230415191365677"
     },
     "user_tz": -300
    },
    "id": "7g6J7_EBeJJk",
    "outputId": "2b4209fd-a689-42a4-da64-52d1c7252bc0"
   },
   "outputs": [
    {
     "data": {
      "text/plain": [
       "1"
      ]
     },
     "execution_count": 58,
     "metadata": {},
     "output_type": "execute_result"
    }
   ],
   "source": [
    "a1.ndim\n"
   ]
  },
  {
   "cell_type": "code",
   "execution_count": 59,
   "metadata": {
    "colab": {
     "base_uri": "https://localhost:8080/"
    },
    "executionInfo": {
     "elapsed": 25,
     "status": "ok",
     "timestamp": 1753529027427,
     "user": {
      "displayName": "Kamal Hussain",
      "userId": "03175230415191365677"
     },
     "user_tz": -300
    },
    "id": "lZjy0J8WeV9K",
    "outputId": "1703de6a-4435-4dba-98fd-bd2921d4ed7a"
   },
   "outputs": [
    {
     "data": {
      "text/plain": [
       "2"
      ]
     },
     "execution_count": 59,
     "metadata": {},
     "output_type": "execute_result"
    }
   ],
   "source": [
    "a2.ndim\n"
   ]
  },
  {
   "cell_type": "code",
   "execution_count": 60,
   "metadata": {
    "colab": {
     "base_uri": "https://localhost:8080/"
    },
    "executionInfo": {
     "elapsed": 44,
     "status": "ok",
     "timestamp": 1753529033097,
     "user": {
      "displayName": "Kamal Hussain",
      "userId": "03175230415191365677"
     },
     "user_tz": -300
    },
    "id": "x7oBHcK8eV0h",
    "outputId": "f9afc016-f390-4c9d-efb0-c5782957c418"
   },
   "outputs": [
    {
     "data": {
      "text/plain": [
       "3"
      ]
     },
     "execution_count": 60,
     "metadata": {},
     "output_type": "execute_result"
    }
   ],
   "source": [
    "a3.ndim"
   ]
  },
  {
   "cell_type": "markdown",
   "metadata": {
    "id": "qtRYIwnsgbea"
   },
   "source": [
    "**SHAPE**"
   ]
  },
  {
   "cell_type": "code",
   "execution_count": 62,
   "metadata": {
    "colab": {
     "base_uri": "https://localhost:8080/"
    },
    "executionInfo": {
     "elapsed": 66,
     "status": "ok",
     "timestamp": 1753529596360,
     "user": {
      "displayName": "Kamal Hussain",
      "userId": "03175230415191365677"
     },
     "user_tz": -300
    },
    "id": "fhG4LIcXgfF9",
    "outputId": "154da58a-ee34-47b6-9f85-14406e33f43b"
   },
   "outputs": [
    {
     "data": {
      "text/plain": [
       "(10,)"
      ]
     },
     "execution_count": 62,
     "metadata": {},
     "output_type": "execute_result"
    }
   ],
   "source": [
    "a1.shape"
   ]
  },
  {
   "cell_type": "code",
   "execution_count": 65,
   "metadata": {
    "colab": {
     "base_uri": "https://localhost:8080/"
    },
    "executionInfo": {
     "elapsed": 21,
     "status": "ok",
     "timestamp": 1753529946078,
     "user": {
      "displayName": "Kamal Hussain",
      "userId": "03175230415191365677"
     },
     "user_tz": -300
    },
    "id": "uZPdPtyvgouj",
    "outputId": "c635c9c5-74ba-471b-9bca-672122499847"
   },
   "outputs": [
    {
     "data": {
      "text/plain": [
       "(3, 4)"
      ]
     },
     "execution_count": 65,
     "metadata": {},
     "output_type": "execute_result"
    }
   ],
   "source": [
    "a2.shape"
   ]
  },
  {
   "cell_type": "code",
   "execution_count": 63,
   "metadata": {
    "colab": {
     "base_uri": "https://localhost:8080/"
    },
    "executionInfo": {
     "elapsed": 45,
     "status": "ok",
     "timestamp": 1753529634203,
     "user": {
      "displayName": "Kamal Hussain",
      "userId": "03175230415191365677"
     },
     "user_tz": -300
    },
    "id": "zfeHCqQXgqhz",
    "outputId": "d8830e6f-caa3-4ca7-9340-cbba711bf36f"
   },
   "outputs": [
    {
     "data": {
      "text/plain": [
       "(2, 2, 2)"
      ]
     },
     "execution_count": 63,
     "metadata": {},
     "output_type": "execute_result"
    }
   ],
   "source": [
    "a3.shape"
   ]
  },
  {
   "cell_type": "markdown",
   "metadata": {
    "id": "P5-7IDBIiAAM"
   },
   "source": [
    "**Attribute  SIZE**"
   ]
  },
  {
   "cell_type": "code",
   "execution_count": 5,
   "metadata": {
    "colab": {
     "base_uri": "https://localhost:8080/"
    },
    "executionInfo": {
     "elapsed": 51,
     "status": "ok",
     "timestamp": 1753565813896,
     "user": {
      "displayName": "Kamal Hussain",
      "userId": "03175230415191365677"
     },
     "user_tz": -300
    },
    "id": "f0nnmv3MiHDb",
    "outputId": "e2d61f40-1c82-441c-f34c-42a55cc48813"
   },
   "outputs": [
    {
     "name": "stdout",
     "output_type": "stream",
     "text": [
      "10\n",
      "12\n",
      "8\n"
     ]
    }
   ],
   "source": [
    "print(a1.size)\n",
    "print(a2.size)\n",
    "print(a3.size)"
   ]
  },
  {
   "cell_type": "markdown",
   "metadata": {
    "id": "6cPgVxcuqvgp"
   },
   "source": [
    "**Attribute itemsize**"
   ]
  },
  {
   "cell_type": "code",
   "execution_count": 7,
   "metadata": {
    "colab": {
     "base_uri": "https://localhost:8080/"
    },
    "executionInfo": {
     "elapsed": 53,
     "status": "ok",
     "timestamp": 1753565875256,
     "user": {
      "displayName": "Kamal Hussain",
      "userId": "03175230415191365677"
     },
     "user_tz": -300
    },
    "id": "NYyyXc49q1G5",
    "outputId": "07be3a71-bbcd-4520-9921-8156d2252a80"
   },
   "outputs": [
    {
     "data": {
      "text/plain": [
       "8"
      ]
     },
     "execution_count": 7,
     "metadata": {},
     "output_type": "execute_result"
    }
   ],
   "source": [
    "a1.itemsize\n",
    "a2.itemsize\n",
    "a3.itemsize"
   ]
  },
  {
   "cell_type": "markdown",
   "metadata": {
    "id": "Sm1PHvZbsJmx"
   },
   "source": [
    "**Attribute dtype**"
   ]
  },
  {
   "cell_type": "code",
   "execution_count": 10,
   "metadata": {
    "colab": {
     "base_uri": "https://localhost:8080/"
    },
    "executionInfo": {
     "elapsed": 116,
     "status": "ok",
     "timestamp": 1753566282167,
     "user": {
      "displayName": "Kamal Hussain",
      "userId": "03175230415191365677"
     },
     "user_tz": -300
    },
    "id": "Msyg3Cd8sP75",
    "outputId": "c123fe73-13bf-460b-e850-1a41bf54507e"
   },
   "outputs": [
    {
     "name": "stdout",
     "output_type": "stream",
     "text": [
      "int64\n",
      "float64\n",
      "int64\n"
     ]
    }
   ],
   "source": [
    "print(a1.dtype)\n",
    "print(a2.dtype)\n",
    "print(a3.dtype)"
   ]
  },
  {
   "cell_type": "markdown",
   "metadata": {
    "id": "oueSDNBEs_iv"
   },
   "source": [
    "**Changing Datatype - astype**"
   ]
  },
  {
   "cell_type": "code",
   "execution_count": 11,
   "metadata": {
    "colab": {
     "base_uri": "https://localhost:8080/"
    },
    "executionInfo": {
     "elapsed": 21,
     "status": "ok",
     "timestamp": 1753566754620,
     "user": {
      "displayName": "Kamal Hussain",
      "userId": "03175230415191365677"
     },
     "user_tz": -300
    },
    "id": "Y5990EZFtBoz",
    "outputId": "b9d503a6-d27b-4c29-bc68-28d1849ee2f5"
   },
   "outputs": [
    {
     "data": {
      "text/plain": [
       "array([[[0, 1],\n",
       "        [2, 3]],\n",
       "\n",
       "       [[4, 5],\n",
       "        [6, 7]]], dtype=int32)"
      ]
     },
     "execution_count": 11,
     "metadata": {},
     "output_type": "execute_result"
    }
   ],
   "source": [
    "a3.astype(np.int32)"
   ]
  },
  {
   "cell_type": "markdown",
   "metadata": {
    "id": "U6a4KZwVvGtE"
   },
   "source": [
    "**Array Operations**"
   ]
  },
  {
   "cell_type": "code",
   "execution_count": 16,
   "metadata": {
    "colab": {
     "base_uri": "https://localhost:8080/"
    },
    "executionInfo": {
     "elapsed": 44,
     "status": "ok",
     "timestamp": 1753567358265,
     "user": {
      "displayName": "Kamal Hussain",
      "userId": "03175230415191365677"
     },
     "user_tz": -300
    },
    "id": "cIoOdT0KwDb0",
    "outputId": "25a88ca3-a020-4ba3-951b-5197a155f736"
   },
   "outputs": [
    {
     "data": {
      "text/plain": [
       "array([[12, 13, 14, 15],\n",
       "       [16, 17, 18, 19],\n",
       "       [20, 21, 22, 23]])"
      ]
     },
     "execution_count": 16,
     "metadata": {},
     "output_type": "execute_result"
    }
   ],
   "source": [
    "b1=np.arange(12).reshape(3,4)\n",
    "b2=np.arange(12,24).reshape(3,4)\n",
    "# b3=np.arange(12).reshape(3,4)\n",
    "\n",
    "b2\n"
   ]
  },
  {
   "cell_type": "markdown",
   "metadata": {
    "id": "sx9Xl5cGxeHt"
   },
   "source": [
    "**Scalar Operation**"
   ]
  },
  {
   "cell_type": "code",
   "execution_count": 20,
   "metadata": {
    "colab": {
     "base_uri": "https://localhost:8080/"
    },
    "executionInfo": {
     "elapsed": 70,
     "status": "ok",
     "timestamp": 1753567664685,
     "user": {
      "displayName": "Kamal Hussain",
      "userId": "03175230415191365677"
     },
     "user_tz": -300
    },
    "id": "tyA4mpurxhJB",
    "outputId": "f1413853-9fa8-43dc-9cfc-8bee68f3fab1"
   },
   "outputs": [
    {
     "data": {
      "text/plain": [
       "array([[  0,   1,   4,   9],\n",
       "       [ 16,  25,  36,  49],\n",
       "       [ 64,  81, 100, 121]])"
      ]
     },
     "execution_count": 20,
     "metadata": {},
     "output_type": "execute_result"
    }
   ],
   "source": [
    "# arthimatic\n",
    "b1**2\n",
    "# when an array is been operated by single unit"
   ]
  },
  {
   "cell_type": "code",
   "execution_count": 23,
   "metadata": {
    "colab": {
     "base_uri": "https://localhost:8080/"
    },
    "executionInfo": {
     "elapsed": 33,
     "status": "ok",
     "timestamp": 1753567727180,
     "user": {
      "displayName": "Kamal Hussain",
      "userId": "03175230415191365677"
     },
     "user_tz": -300
    },
    "id": "_e_jVxhAx0Cq",
    "outputId": "4efcb1dc-e2c2-4863-c12d-884fec7f7d3f"
   },
   "outputs": [
    {
     "data": {
      "text/plain": [
       "array([[False, False, False, False],\n",
       "       [False, False,  True,  True],\n",
       "       [ True,  True,  True,  True]])"
      ]
     },
     "execution_count": 23,
     "metadata": {},
     "output_type": "execute_result"
    }
   ],
   "source": [
    "# relational\n",
    "b1 > 5"
   ]
  },
  {
   "cell_type": "markdown",
   "metadata": {
    "id": "Dp5Glhtgyyle"
   },
   "source": [
    "**VECTOR OPERATIONS**"
   ]
  },
  {
   "cell_type": "code",
   "execution_count": 24,
   "metadata": {
    "colab": {
     "base_uri": "https://localhost:8080/"
    },
    "executionInfo": {
     "elapsed": 52,
     "status": "ok",
     "timestamp": 1753568248212,
     "user": {
      "displayName": "Kamal Hussain",
      "userId": "03175230415191365677"
     },
     "user_tz": -300
    },
    "id": "fcIclOEjz005",
    "outputId": "0b6b7ac3-126d-4698-dec0-b372a32884c9"
   },
   "outputs": [
    {
     "data": {
      "text/plain": [
       "array([[  0,  13,  28,  45],\n",
       "       [ 64,  85, 108, 133],\n",
       "       [160, 189, 220, 253]])"
      ]
     },
     "execution_count": 24,
     "metadata": {},
     "output_type": "execute_result"
    }
   ],
   "source": [
    "# WHEN TWO NP.ARRAY ARE OPERATED TOGETHER ARE CALLED VECTOR OPERATION\n",
    "b2 * b1"
   ]
  },
  {
   "cell_type": "code",
   "execution_count": 25,
   "metadata": {
    "colab": {
     "base_uri": "https://localhost:8080/"
    },
    "executionInfo": {
     "elapsed": 87,
     "status": "ok",
     "timestamp": 1753568270068,
     "user": {
      "displayName": "Kamal Hussain",
      "userId": "03175230415191365677"
     },
     "user_tz": -300
    },
    "id": "0IF3itrR0ECs",
    "outputId": "14403810-1fbc-4f5c-b727-2172ff438e7b"
   },
   "outputs": [
    {
     "data": {
      "text/plain": [
       "array([[ 0,  3,  6,  9],\n",
       "       [12, 15, 18, 21],\n",
       "       [24, 27, 30, 33]])"
      ]
     },
     "execution_count": 25,
     "metadata": {},
     "output_type": "execute_result"
    }
   ],
   "source": [
    "b1*3"
   ]
  },
  {
   "cell_type": "code",
   "execution_count": 26,
   "metadata": {
    "colab": {
     "base_uri": "https://localhost:8080/"
    },
    "executionInfo": {
     "elapsed": 45,
     "status": "ok",
     "timestamp": 1753568277269,
     "user": {
      "displayName": "Kamal Hussain",
      "userId": "03175230415191365677"
     },
     "user_tz": -300
    },
    "id": "xDvp5UZd0GAi",
    "outputId": "1b044596-2188-48d3-da2b-a624775b3c1f"
   },
   "outputs": [
    {
     "data": {
      "text/plain": [
       "array([[12, 14, 16, 18],\n",
       "       [20, 22, 24, 26],\n",
       "       [28, 30, 32, 34]])"
      ]
     },
     "execution_count": 26,
     "metadata": {},
     "output_type": "execute_result"
    }
   ],
   "source": [
    "b1+b2"
   ]
  },
  {
   "cell_type": "markdown",
   "metadata": {},
   "source": [
    "**NumPy Array Functions**"
   ]
  },
  {
   "cell_type": "code",
   "execution_count": 9,
   "metadata": {},
   "outputs": [
    {
     "name": "stdout",
     "output_type": "stream",
     "text": [
      "(2, 3)\n",
      "2\n",
      "float64\n"
     ]
    }
   ],
   "source": [
    "# Exercise 1\n",
    "x=np.ones((2,3))\n",
    "print(x.shape)\n",
    "print(x.ndim)\n",
    "print(x.dtype)"
   ]
  },
  {
   "cell_type": "code",
   "execution_count": 10,
   "metadata": {},
   "outputs": [
    {
     "data": {
      "text/plain": [
       "array([10, 12, 14, 16, 18, 20, 22, 24, 26])"
      ]
     },
     "execution_count": 10,
     "metadata": {},
     "output_type": "execute_result"
    }
   ],
   "source": [
    "# Exercise 2\n",
    "np.arange(10,28,2)"
   ]
  },
  {
   "cell_type": "code",
   "execution_count": 28,
   "metadata": {},
   "outputs": [
    {
     "name": "stdout",
     "output_type": "stream",
     "text": [
      "Mean 0.45714556080087126\n"
     ]
    },
    {
     "data": {
      "text/plain": [
       "array([[ True, False, False, False, False],\n",
       "       [False, False, False, False, False],\n",
       "       [False,  True, False, False, False],\n",
       "       [False, False, False, False, False],\n",
       "       [False, False, False, False, False],\n",
       "       [False,  True, False, False, False],\n",
       "       [False, False, False, False,  True],\n",
       "       [ True, False, False,  True, False],\n",
       "       [False, False, False,  True, False],\n",
       "       [False, False,  True, False, False],\n",
       "       [ True, False, False, False, False],\n",
       "       [False, False,  True, False, False],\n",
       "       [ True, False, False, False,  True],\n",
       "       [False, False, False, False,  True],\n",
       "       [ True, False,  True, False, False],\n",
       "       [False,  True, False, False,  True],\n",
       "       [False, False, False, False, False],\n",
       "       [False, False, False,  True, False],\n",
       "       [False, False, False, False, False],\n",
       "       [False, False, False, False,  True]])"
      ]
     },
     "execution_count": 28,
     "metadata": {},
     "output_type": "execute_result"
    }
   ],
   "source": [
    "# Exercise\n",
    "gen=np.random.random((20,5))\n",
    "print('Mean',gen.mean())\n",
    "gen > 0.8"
   ]
  },
  {
   "cell_type": "markdown",
   "metadata": {},
   "source": [
    "**Functions of Numpy**"
   ]
  },
  {
   "cell_type": "code",
   "execution_count": 32,
   "metadata": {},
   "outputs": [
    {
     "data": {
      "text/plain": [
       "array([[38., 28., 57.],\n",
       "       [57., 10., 30.],\n",
       "       [19., 68., 27.]])"
      ]
     },
     "execution_count": 32,
     "metadata": {},
     "output_type": "execute_result"
    }
   ],
   "source": [
    "c1=np.random.random((3,3))\n",
    "c1=np.round(c1*100)\n",
    "c1"
   ]
  },
  {
   "cell_type": "code",
   "execution_count": 46,
   "metadata": {},
   "outputs": [
    {
     "name": "stdout",
     "output_type": "stream",
     "text": [
      "Min:  10.0\n",
      "Sum:  334.0\n",
      "Product:  36177526627200.0\n"
     ]
    },
    {
     "data": {
      "text/plain": [
       "array([19., 10., 27.])"
      ]
     },
     "execution_count": 46,
     "metadata": {},
     "output_type": "execute_result"
    }
   ],
   "source": [
    "# Max/Min/Sum/Prod \n",
    "print('Min: ',np.min(c1))\n",
    "print('Sum: ',np.sum(c1))\n",
    "print('Product: ',np.prod(c1))\n",
    "# what if we need max/min of special row or column axis=0--->col axis=1--->row\n",
    "# Row\n",
    "np.max(c1,axis=1)\n",
    "# Column\n",
    "np.min(c1,axis=0)\n"
   ]
  },
  {
   "cell_type": "code",
   "execution_count": 50,
   "metadata": {},
   "outputs": [
    {
     "name": "stdout",
     "output_type": "stream",
     "text": [
      "Mean:  [38.         35.33333333 38.        ]\n",
      "Median:  [38. 30. 27.]\n",
      "Standard diviation:  [12.0277457  19.25847577 21.46314671]\n",
      "Variance:  [144.66666667 370.88888889 460.66666667]\n"
     ]
    }
   ],
   "source": [
    "# Mean/Median/Std/Var \n",
    "print('Mean: ',np.mean(c1,axis=0))\n",
    "print('Median: ',np.median(c1,axis=1))\n",
    "print('Standard diviation: ',np.std(c1,axis=1))\n",
    "print('Variance: ',np.var(c1,axis=1))"
   ]
  },
  {
   "cell_type": "markdown",
   "metadata": {},
   "source": [
    "**Trignometry Funions**"
   ]
  },
  {
   "cell_type": "code",
   "execution_count": 54,
   "metadata": {},
   "outputs": [
    {
     "name": "stdout",
     "output_type": "stream",
     "text": [
      "[0.0000000e+00 1.0000000e+00 1.2246468e-16]\n",
      "[ 1.000000e+00  6.123234e-17 -1.000000e+00]\n",
      "[ 0.00000000e+00  1.63312394e+16 -1.22464680e-16]\n",
      "[0.         1.57079633]\n",
      "[0.         1.57079633]\n",
      "[0.         0.78539816]\n",
      "5.0\n",
      "[0.         3.14159265]\n",
      "[  0. 180.]\n"
     ]
    }
   ],
   "source": [
    "x = np.array([0, np.pi/2, np.pi])\n",
    "x\n",
    "print(np.sin(x))   # sine\n",
    "print(np.cos(x))   # cosine\n",
    "print(np.tan(x))   # tangent\n",
    "\n",
    "# Inverse trigonometric functions\n",
    "print(np.arcsin([0, 1]))  # inverse sine\n",
    "print(np.arccos([1, 0]))  # inverse cosine\n",
    "print(np.arctan([0, 1]))  # inverse tangent\n",
    "\n",
    "# Hypotenuse\n",
    "print(np.hypot(3, 4))     # returns sqrt(3^2 + 4^2) = 5\n",
    "\n",
    "# Conversion between degrees and radians\n",
    "print(np.deg2rad([0, 180]))  # degrees → radians\n",
    "print(np.rad2deg([0, np.pi]))# radians → degrees"
   ]
  },
  {
   "cell_type": "markdown",
   "metadata": {},
   "source": [
    "**Dot Product**"
   ]
  },
  {
   "cell_type": "code",
   "execution_count": 58,
   "metadata": {},
   "outputs": [
    {
     "data": {
      "text/plain": [
       "array([[114, 120, 126],\n",
       "       [378, 400, 422],\n",
       "       [642, 680, 718]])"
      ]
     },
     "execution_count": 58,
     "metadata": {},
     "output_type": "execute_result"
    }
   ],
   "source": [
    "b2=np.arange(12).reshape(3,4)\n",
    "b3=np.arange(12,24).reshape(4,3)\n",
    "np.dot(b2,b3)"
   ]
  },
  {
   "cell_type": "markdown",
   "metadata": {},
   "source": [
    "**Log and Exponents**"
   ]
  },
  {
   "cell_type": "code",
   "execution_count": 60,
   "metadata": {},
   "outputs": [
    {
     "name": "stdout",
     "output_type": "stream",
     "text": [
      "Log:  [[      -inf 0.         0.69314718 1.09861229]\n",
      " [1.38629436 1.60943791 1.79175947 1.94591015]\n",
      " [2.07944154 2.19722458 2.30258509 2.39789527]]\n",
      "Exponents:  [[1.00000000e+00 2.71828183e+00 7.38905610e+00 2.00855369e+01]\n",
      " [5.45981500e+01 1.48413159e+02 4.03428793e+02 1.09663316e+03]\n",
      " [2.98095799e+03 8.10308393e+03 2.20264658e+04 5.98741417e+04]]\n"
     ]
    },
    {
     "name": "stderr",
     "output_type": "stream",
     "text": [
      "C:\\Users\\etopi.DESKTOP-51VUFOC\\AppData\\Local\\Temp\\ipykernel_4920\\3956721915.py:1: RuntimeWarning: divide by zero encountered in log\n",
      "  print('Log: ',np.log(b2))\n"
     ]
    }
   ],
   "source": [
    "print('Log: ',np.log(b2))\n",
    "print('Exponents: ',np.exp(b2))"
   ]
  },
  {
   "cell_type": "code",
   "execution_count": 68,
   "metadata": {},
   "outputs": [
    {
     "data": {
      "text/plain": [
       "array([[89., 57., 98.],\n",
       "       [87., 18., 13.]])"
      ]
     },
     "execution_count": 68,
     "metadata": {},
     "output_type": "execute_result"
    }
   ],
   "source": [
    "# Round/floor/ceil\n",
    "np.round(np.random.random((2,3))*100)\n",
    "np.ceil(np.round(np.random.random((2,3))*100))\n",
    "np.floor(np.round(np.random.random((2,3))*100))\n"
   ]
  },
  {
   "cell_type": "markdown",
   "metadata": {},
   "source": [
    "**Indexing and Slicing**"
   ]
  },
  {
   "cell_type": "code",
   "execution_count": 69,
   "metadata": {},
   "outputs": [],
   "source": [
    "d1=np.arange(10)\n",
    "d2=np.arange(12).reshape(3,4)\n",
    "d3=np.arange(8).reshape(2,2,2)"
   ]
  },
  {
   "cell_type": "code",
   "execution_count": 70,
   "metadata": {},
   "outputs": [
    {
     "data": {
      "text/plain": [
       "array([0, 1, 2, 3, 4, 5, 6, 7, 8, 9])"
      ]
     },
     "execution_count": 70,
     "metadata": {},
     "output_type": "execute_result"
    }
   ],
   "source": [
    "d1"
   ]
  },
  {
   "cell_type": "code",
   "execution_count": 71,
   "metadata": {},
   "outputs": [
    {
     "data": {
      "text/plain": [
       "array([[ 0,  1,  2,  3],\n",
       "       [ 4,  5,  6,  7],\n",
       "       [ 8,  9, 10, 11]])"
      ]
     },
     "execution_count": 71,
     "metadata": {},
     "output_type": "execute_result"
    }
   ],
   "source": [
    "d2"
   ]
  },
  {
   "cell_type": "code",
   "execution_count": 72,
   "metadata": {},
   "outputs": [
    {
     "data": {
      "text/plain": [
       "array([[[0, 1],\n",
       "        [2, 3]],\n",
       "\n",
       "       [[4, 5],\n",
       "        [6, 7]]])"
      ]
     },
     "execution_count": 72,
     "metadata": {},
     "output_type": "execute_result"
    }
   ],
   "source": [
    "d3"
   ]
  },
  {
   "cell_type": "code",
   "execution_count": 77,
   "metadata": {},
   "outputs": [
    {
     "data": {
      "text/plain": [
       "np.int64(9)"
      ]
     },
     "execution_count": 77,
     "metadata": {},
     "output_type": "execute_result"
    }
   ],
   "source": [
    "# Index using list remain same with Numpy\n",
    "d1[9]"
   ]
  },
  {
   "cell_type": "code",
   "execution_count": 79,
   "metadata": {},
   "outputs": [
    {
     "data": {
      "text/plain": [
       "array([[ 0,  1,  2,  3],\n",
       "       [ 4,  5,  6,  7],\n",
       "       [ 8,  9, 10, 11]])"
      ]
     },
     "execution_count": 79,
     "metadata": {},
     "output_type": "execute_result"
    }
   ],
   "source": [
    "d2"
   ]
  },
  {
   "cell_type": "code",
   "execution_count": 78,
   "metadata": {},
   "outputs": [
    {
     "data": {
      "text/plain": [
       "np.int64(11)"
      ]
     },
     "execution_count": 78,
     "metadata": {},
     "output_type": "execute_result"
    }
   ],
   "source": [
    "d2[2,3]"
   ]
  },
  {
   "cell_type": "code",
   "execution_count": 86,
   "metadata": {},
   "outputs": [
    {
     "data": {
      "text/plain": [
       "np.int64(4)"
      ]
     },
     "execution_count": 86,
     "metadata": {},
     "output_type": "execute_result"
    }
   ],
   "source": [
    "# In numpy for finding index we can first indicate row and than finding element in column\n",
    "d2[1,2]\n",
    "d2[1,0]\n"
   ]
  },
  {
   "cell_type": "code",
   "execution_count": null,
   "metadata": {},
   "outputs": [
    {
     "data": {
      "text/plain": [
       "array([[[0, 1],\n",
       "        [2, 3]],\n",
       "\n",
       "       [[4, 5],\n",
       "        [6, 7]]])"
      ]
     },
     "execution_count": 92,
     "metadata": {},
     "output_type": "execute_result"
    }
   ],
   "source": [
    "a3 #Tensors"
   ]
  },
  {
   "cell_type": "code",
   "execution_count": 93,
   "metadata": {},
   "outputs": [
    {
     "data": {
      "text/plain": [
       "np.int64(5)"
      ]
     },
     "execution_count": 93,
     "metadata": {},
     "output_type": "execute_result"
    }
   ],
   "source": [
    "a3[1,0,1]"
   ]
  },
  {
   "cell_type": "code",
   "execution_count": 94,
   "metadata": {},
   "outputs": [
    {
     "data": {
      "text/plain": [
       "np.int64(0)"
      ]
     },
     "execution_count": 94,
     "metadata": {},
     "output_type": "execute_result"
    }
   ],
   "source": [
    "a3[0,0,0]"
   ]
  },
  {
   "cell_type": "code",
   "execution_count": 95,
   "metadata": {},
   "outputs": [
    {
     "data": {
      "text/plain": [
       "np.int64(6)"
      ]
     },
     "execution_count": 95,
     "metadata": {},
     "output_type": "execute_result"
    }
   ],
   "source": [
    "a3[1,1,0]"
   ]
  },
  {
   "cell_type": "markdown",
   "metadata": {},
   "source": [
    "***Slicing***"
   ]
  },
  {
   "cell_type": "code",
   "execution_count": 96,
   "metadata": {},
   "outputs": [
    {
     "data": {
      "text/plain": [
       "array([0, 1, 2, 3, 4, 5, 6, 7, 8, 9])"
      ]
     },
     "execution_count": 96,
     "metadata": {},
     "output_type": "execute_result"
    }
   ],
   "source": [
    "a1"
   ]
  },
  {
   "cell_type": "code",
   "execution_count": 97,
   "metadata": {},
   "outputs": [
    {
     "data": {
      "text/plain": [
       "array([2, 3, 4])"
      ]
     },
     "execution_count": 97,
     "metadata": {},
     "output_type": "execute_result"
    }
   ],
   "source": [
    "a1[2:5]"
   ]
  },
  {
   "cell_type": "code",
   "execution_count": 104,
   "metadata": {},
   "outputs": [
    {
     "data": {
      "text/plain": [
       "array([[ 0.,  1.,  2.,  3.],\n",
       "       [ 4.,  5.,  6.,  7.],\n",
       "       [ 8.,  9., 10., 11.]])"
      ]
     },
     "execution_count": 104,
     "metadata": {},
     "output_type": "execute_result"
    }
   ],
   "source": [
    "a2"
   ]
  },
  {
   "cell_type": "code",
   "execution_count": 112,
   "metadata": {},
   "outputs": [
    {
     "data": {
      "text/plain": [
       "array([[ 0.,  1.,  2.,  3.],\n",
       "       [ 4.,  5.,  6.,  7.],\n",
       "       [ 8.,  9., 10., 11.]])"
      ]
     },
     "execution_count": 112,
     "metadata": {},
     "output_type": "execute_result"
    }
   ],
   "source": [
    "a2[:]"
   ]
  },
  {
   "cell_type": "code",
   "execution_count": 102,
   "metadata": {},
   "outputs": [
    {
     "data": {
      "text/plain": [
       "array([ 2.,  6., 10.])"
      ]
     },
     "execution_count": 102,
     "metadata": {},
     "output_type": "execute_result"
    }
   ],
   "source": [
    "a2[:,2]"
   ]
  },
  {
   "cell_type": "code",
   "execution_count": 110,
   "metadata": {},
   "outputs": [
    {
     "ename": "IndexError",
     "evalue": "too many indices for array: array is 2-dimensional, but 4 were indexed",
     "output_type": "error",
     "traceback": [
      "\u001b[31m---------------------------------------------------------------------------\u001b[39m",
      "\u001b[31mIndexError\u001b[39m                                Traceback (most recent call last)",
      "\u001b[36mCell\u001b[39m\u001b[36m \u001b[39m\u001b[32mIn[110]\u001b[39m\u001b[32m, line 1\u001b[39m\n\u001b[32m----> \u001b[39m\u001b[32m1\u001b[39m \u001b[43ma2\u001b[49m\u001b[43m[\u001b[49m\u001b[32;43m1\u001b[39;49m\u001b[43m,\u001b[49m\u001b[32;43m1\u001b[39;49m\u001b[43m:\u001b[49m\u001b[43m,\u001b[49m\u001b[32;43m1\u001b[39;49m\u001b[43m,\u001b[49m\u001b[32;43m2\u001b[39;49m\u001b[43m]\u001b[49m\n",
      "\u001b[31mIndexError\u001b[39m: too many indices for array: array is 2-dimensional, but 4 were indexed"
     ]
    }
   ],
   "source": [
    "a2[1,1:,1,2]"
   ]
  }
 ],
 "metadata": {
  "colab": {
   "authorship_tag": "ABX9TyOOThbU2JTAOS8xORQAEthO",
   "provenance": []
  },
  "kernelspec": {
   "display_name": "Python 3",
   "name": "python3"
  },
  "language_info": {
   "codemirror_mode": {
    "name": "ipython",
    "version": 3
   },
   "file_extension": ".py",
   "mimetype": "text/x-python",
   "name": "python",
   "nbconvert_exporter": "python",
   "pygments_lexer": "ipython3",
   "version": "3.13.0"
  }
 },
 "nbformat": 4,
 "nbformat_minor": 0
}
