{
 "cells": [
  {
   "cell_type": "markdown",
   "id": "46eaa9f2",
   "metadata": {},
   "source": [
    "## Numpy array and Basics\n",
    "Learn about numpy with Kamal Hussain"
   ]
  },
  {
   "cell_type": "code",
   "execution_count": 1,
   "id": "e778316a",
   "metadata": {},
   "outputs": [],
   "source": [
    "import numpy as np"
   ]
  },
  {
   "cell_type": "markdown",
   "id": "906feae6",
   "metadata": {},
   "source": [
    "## Creating array From list"
   ]
  },
  {
   "cell_type": "code",
   "execution_count": 4,
   "id": "1f06499a",
   "metadata": {},
   "outputs": [
    {
     "name": "stdout",
     "output_type": "stream",
     "text": [
      "Id Arrary==[1 2 3 4 5]\n",
      "2D array is:  [[1 2 3]\n",
      " [4 5 6]]\n"
     ]
    }
   ],
   "source": [
    "arry_1d=np.array([1,2,3,4,5])\n",
    "print(f'Id Arrary=={arry_1d}')\n",
    "arry_2d=np.array([[1,2,3],[4,5,6]])\n",
    "print('2D array is: ',arry_2d)"
   ]
  },
  {
   "cell_type": "markdown",
   "id": "09d04527",
   "metadata": {},
   "source": [
    "## Numpy array Vs List\n"
   ]
  },
  {
   "cell_type": "markdown",
   "id": "749a78e6",
   "metadata": {},
   "source": []
  }
 ],
 "metadata": {
  "kernelspec": {
   "display_name": "Python 3",
   "language": "python",
   "name": "python3"
  },
  "language_info": {
   "codemirror_mode": {
    "name": "ipython",
    "version": 3
   },
   "file_extension": ".py",
   "mimetype": "text/x-python",
   "name": "python",
   "nbconvert_exporter": "python",
   "pygments_lexer": "ipython3",
   "version": "3.13.0"
  }
 },
 "nbformat": 4,
 "nbformat_minor": 5
}
